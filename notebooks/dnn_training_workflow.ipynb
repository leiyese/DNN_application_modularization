{
 "cells": [
  {
   "cell_type": "code",
   "execution_count": null,
   "id": "da8ac68e",
   "metadata": {
    "vscode": {
     "languageId": "plaintext"
    }
   },
   "outputs": [],
   "source": [
    "# Mount Google Drive (optional, if you want to save outputs to Drive)\n",
    "# from google.colab import drive\n",
    "# drive.mount('/content/drive')\n",
    "\n",
    "# Set your project path in Google Drive (adjust as needed)\n",
    "# PROJECT_DRIVE_PATH = '/content/drive/MyDrive/your_colab_projects/dynamic_dnn_trainer'\n",
    "# If not using Drive, you can clone directly into Colab's temporary storage."
   ]
  },
  {
   "cell_type": "code",
   "execution_count": null,
   "id": "12ff6f55",
   "metadata": {
    "vscode": {
     "languageId": "plaintext"
    }
   },
   "outputs": [],
   "source": [
    "# Only run this cell if you haven't cloned the repo in your Colab environment yet\n",
    "# or if you want to pull the latest changes.\n",
    "\n",
    "# !git clone <https://github.com/leiyese/dynamic_dnn_trainer> dynamic_dnn_trainer_colab\n",
    "# %cd dynamic_dnn_trainer_colab\n",
    "\n",
    "# If you mounted Drive and your project is there:\n",
    "# %cd $PROJECT_DRIVE_PATH\n",
    "# !git pull # To get latest changes"
   ]
  },
  {
   "cell_type": "code",
   "execution_count": null,
   "id": "e810b2e2",
   "metadata": {
    "vscode": {
     "languageId": "plaintext"
    }
   },
   "outputs": [],
   "source": [
    "# Install requirements\n",
    "# Make sure your requirements.txt is up-to-date in your repo\n",
    "# !pip install -q -r requirements.txt\n",
    "\n",
    "# Add src to Python path to import our modules\n",
    "import sys\n",
    "import os\n",
    "\n",
    "# Adjust the path depending on where your notebook is relative to the 'src' directory\n",
    "# If notebook is in 'dynamic_dnn_trainer/notebooks/' and src is 'dynamic_dnn_trainer/src/'\n",
    "# And your current working directory is 'dynamic_dnn_trainer_colab' (or your project root)\n",
    "if 'src' not in sys.path:\n",
    "    sys.path.append('src')\n",
    "# Or, more robustly if you know the project root:\n",
    "# project_root = os.path.abspath(os.path.join(os.getcwd())) # Assumes CWD is project root\n",
    "# src_path = os.path.join(project_root, 'src')\n",
    "# if src_path not in sys.path:\n",
    "#    sys.path.append(src_path)\n",
    "\n",
    "print(f\"Current working directory: {os.getcwd()}\")\n",
    "print(f\"System path: {sys.path}\")"
   ]
  },
  {
   "cell_type": "code",
   "execution_count": null,
   "id": "62b892b8",
   "metadata": {
    "vscode": {
     "languageId": "plaintext"
    }
   },
   "outputs": [],
   "source": [
    "import pandas as pd\n",
    "import numpy as np\n",
    "\n",
    "# Import from our custom modules in src\n",
    "from src import config\n",
    "from src.data_ingestion import loader\n",
    "from src.eda import exploratory_analysis as eda\n",
    "from src.preprocessing import transformers\n",
    "from src.utils import helpers\n",
    "\n",
    "print(\"Successfully imported all modules.\")"
   ]
  }
 ],
 "metadata": {
  "language_info": {
   "name": "python"
  }
 },
 "nbformat": 4,
 "nbformat_minor": 5
}
